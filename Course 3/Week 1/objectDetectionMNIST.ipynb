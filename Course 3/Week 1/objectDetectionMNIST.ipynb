{
  "nbformat": 4,
  "nbformat_minor": 0,
  "metadata": {
    "colab": {
      "name": "objectDetectionMNIST.ipynb",
      "provenance": [],
      "collapsed_sections": []
    },
    "kernelspec": {
      "name": "python3",
      "display_name": "Python 3"
    },
    "language_info": {
      "name": "python"
    },
    "accelerator": "GPU"
  },
  "cells": [
    {
      "cell_type": "code",
      "metadata": {
        "id": "PK8FcC-RVSHZ"
      },
      "source": [
        "import tensorflow as tf\n",
        "from tensorflow.keras.layers import Input, Dense, Conv2D, MaxPooling2D, \\\n",
        " Flatten,BatchNormalization,Activation, GlobalAveragePooling2D, UpSampling2D, Dropout, Lambda\n",
        "import numpy as np\n",
        "from tensorflow.keras.models import Model, Sequential\n",
        "import matplotlib.pyplot as plt\n",
        "import tensorflow_datasets as tfds\n",
        "from tensorflow.keras.utils import plot_model\n",
        "import random"
      ],
      "execution_count": null,
      "outputs": []
    },
    {
      "cell_type": "code",
      "metadata": {
        "id": "s62zUV_JVmCF"
      },
      "source": [
        "trainDataset, info = tfds.load('mnist', split='train', with_info=True)"
      ],
      "execution_count": null,
      "outputs": []
    },
    {
      "cell_type": "code",
      "metadata": {
        "id": "NOjsI-VJmNoC"
      },
      "source": [
        "testDataset = tfds.load('mnist', split='test')"
      ],
      "execution_count": null,
      "outputs": []
    },
    {
      "cell_type": "code",
      "metadata": {
        "colab": {
          "base_uri": "https://localhost:8080/"
        },
        "id": "P45QHyxVmKtK",
        "outputId": "80d9f9c0-5149-4936-ee39-dadbaca454f4"
      },
      "source": [
        "info"
      ],
      "execution_count": null,
      "outputs": [
        {
          "output_type": "execute_result",
          "data": {
            "text/plain": [
              "tfds.core.DatasetInfo(\n",
              "    name='mnist',\n",
              "    version=3.0.1,\n",
              "    description='The MNIST database of handwritten digits.',\n",
              "    homepage='http://yann.lecun.com/exdb/mnist/',\n",
              "    features=FeaturesDict({\n",
              "        'image': Image(shape=(28, 28, 1), dtype=tf.uint8),\n",
              "        'label': ClassLabel(shape=(), dtype=tf.int64, num_classes=10),\n",
              "    }),\n",
              "    total_num_examples=70000,\n",
              "    splits={\n",
              "        'test': 10000,\n",
              "        'train': 60000,\n",
              "    },\n",
              "    supervised_keys=('image', 'label'),\n",
              "    citation=\"\"\"@article{lecun2010mnist,\n",
              "      title={MNIST handwritten digit database},\n",
              "      author={LeCun, Yann and Cortes, Corinna and Burges, CJ},\n",
              "      journal={ATT Labs [Online]. Available: http://yann.lecun.com/exdb/mnist},\n",
              "      volume={2},\n",
              "      year={2010}\n",
              "    }\"\"\",\n",
              "    redistribution_info=,\n",
              ")"
            ]
          },
          "metadata": {
            "tags": []
          },
          "execution_count": 4
        }
      ]
    },
    {
      "cell_type": "code",
      "metadata": {
        "id": "CbWc_1pP3POL"
      },
      "source": [
        "@tf.function\n",
        "def costIOU(yTrue, yPred):\n",
        "  wTrue = yTrue[:,1] - yTrue[:,0]\n",
        "  wPred = tf.maximum(0.0,yPred[:,1] - yPred[:,0])\n",
        "  mnW_ = tf.minimum(wTrue, wPred)\n",
        "\n",
        "  hTrue = yTrue[:,3] - yTrue[:,2]\n",
        "  hPred = tf.maximum(0.0,yPred[:,3] - yPred[:,2])\n",
        "  mnH_ = tf.minimum(hTrue, hPred)\n",
        "\n",
        "  mask = yTrue[:,0] >= yPred[:,0]\n",
        "  \n",
        "  mxX1 = tf.where(mask,yTrue[:,0], yPred[:,0])\n",
        "  mnX1 = tf.where(mask, yPred[:,0], yTrue[:,0])\n",
        "  mnW = tf.where(mask, wPred, wTrue)\n",
        "\n",
        "\n",
        "  mask2 = yTrue[:,2] >= yPred[:,2]\n",
        "\n",
        "  mxY1 = tf.where(mask2, yTrue[:,2], yPred[:,2])\n",
        "  mnY1 = tf.where(mask2, yPred[:,2], yTrue[:,2])\n",
        "  mnH = tf.where(mask2, hPred, hTrue)\n",
        "\n",
        "  xOverlap = tf.maximum(0.0, mnX1 + mnW - mxX1)\n",
        "  yOverlap = tf.maximum(0.0, mnY1 + mnH - mxY1)\n",
        "\n",
        "  xOverlap = tf.where(xOverlap > mnW_ , mnW_, xOverlap)\n",
        "  yOverlap = tf.where(yOverlap > mnH_ , mnH_, yOverlap)\n",
        "  \n",
        "  # tf.print(xOverlap, yOverlap)\n",
        "\n",
        "  # print(mnX1)\n",
        "  intersection = xOverlap * yOverlap\n",
        "  # tf.print(intersection)\n",
        "  union = wTrue * hTrue + wPred * hPred - intersection\n",
        "  iou = intersection / union\n",
        "  cost = 1 - iou\n",
        "  return tf.reduce_mean(cost)\n",
        "\n",
        "SHAPE = (64,64,1)\n",
        "# SHAPE = (64, 64, 1)\n",
        "paddedImageConstant = tf.constant(0, shape=SHAPE, dtype=tf.float32)\n",
        "paddedImage = tf.Variable(paddedImageConstant)\n",
        "boxVar = tf.Variable([0,0,0,0.0])\n",
        "def formatImage(data):\n",
        "  global paddedImage\n",
        "  image = data['image'] / 255\n",
        "  label = data['label']\n",
        "  # print(label)\n",
        "  sh = image.shape\n",
        "  r = SHAPE[0] - sh[0]\n",
        "  c = SHAPE[1] - sh[1]\n",
        "  rRand = random.random() * r\n",
        "  cRand = random.random() * c\n",
        "  r = int(cRand)\n",
        "  c = int(rRand)\n",
        "  x1 = r\n",
        "  y1 = c\n",
        "  x2 = r + sh[0]\n",
        "  y2 = c + sh[1]\n",
        "  x1 = x1 / SHAPE[0]\n",
        "  y1 = y1 / SHAPE[1]\n",
        "  x2 = x2 / SHAPE[0]\n",
        "  y2 = y2 / SHAPE[1]\n",
        "  paddedImage[0:SHAPE[0], 0:SHAPE[1]].assign(paddedImageConstant)\n",
        "  paddedImage[r:r+sh[0],c:c+sh[1]].assign(image)\n",
        "  boxVar[0:4].assign([x1, x2, y1, y2])\n",
        "  # plt.imshow(paddedImage)\n",
        "  # return paddedImage_, label\n",
        "  return paddedImage, (tf.cast(label, dtype=tf.int32), boxVar)"
      ],
      "execution_count": null,
      "outputs": []
    },
    {
      "cell_type": "code",
      "metadata": {
        "id": "T9Jz4wYPmjG-"
      },
      "source": [
        "for i in trainDataset:\n",
        "  testImage = i['image']\n",
        "  testLabel = i['label']\n",
        "  break"
      ],
      "execution_count": null,
      "outputs": []
    },
    {
      "cell_type": "code",
      "metadata": {
        "id": "Z3af8jhktGpi",
        "colab": {
          "base_uri": "https://localhost:8080/"
        },
        "outputId": "bb3eb8ba-2c20-4f4a-8b81-856512124d4b"
      },
      "source": [
        "x, y = formatImage({'image' : testImage, 'label' : testLabel})\n",
        "x, y"
      ],
      "execution_count": null,
      "outputs": [
        {
          "output_type": "execute_result",
          "data": {
            "text/plain": [
              "(<tf.Variable 'Variable:0' shape=(64, 64, 1) dtype=float32, numpy=\n",
              " array([[[0.],\n",
              "         [0.],\n",
              "         [0.],\n",
              "         ...,\n",
              "         [0.],\n",
              "         [0.],\n",
              "         [0.]],\n",
              " \n",
              "        [[0.],\n",
              "         [0.],\n",
              "         [0.],\n",
              "         ...,\n",
              "         [0.],\n",
              "         [0.],\n",
              "         [0.]],\n",
              " \n",
              "        [[0.],\n",
              "         [0.],\n",
              "         [0.],\n",
              "         ...,\n",
              "         [0.],\n",
              "         [0.],\n",
              "         [0.]],\n",
              " \n",
              "        ...,\n",
              " \n",
              "        [[0.],\n",
              "         [0.],\n",
              "         [0.],\n",
              "         ...,\n",
              "         [0.],\n",
              "         [0.],\n",
              "         [0.]],\n",
              " \n",
              "        [[0.],\n",
              "         [0.],\n",
              "         [0.],\n",
              "         ...,\n",
              "         [0.],\n",
              "         [0.],\n",
              "         [0.]],\n",
              " \n",
              "        [[0.],\n",
              "         [0.],\n",
              "         [0.],\n",
              "         ...,\n",
              "         [0.],\n",
              "         [0.],\n",
              "         [0.]]], dtype=float32)>,\n",
              " (<tf.Tensor: shape=(), dtype=int32, numpy=4>,\n",
              "  <tf.Variable 'Variable:0' shape=(4,) dtype=float32, numpy=array([0.484375, 0.921875, 0.359375, 0.796875], dtype=float32)>))"
            ]
          },
          "metadata": {
            "tags": []
          },
          "execution_count": 7
        }
      ]
    },
    {
      "cell_type": "code",
      "metadata": {
        "colab": {
          "base_uri": "https://localhost:8080/"
        },
        "id": "B_j36jjT3DL-",
        "outputId": "25aaa214-d374-4e84-eabf-d0ebbec2d7c7"
      },
      "source": [
        "costIOU(\n",
        "    tf.Variable(\n",
        "        [[6.0, 20,-4, 30]]\n",
        "        ),\n",
        "      tf.Variable(\n",
        "      [[0.0, 10, 0, 8]]\n",
        "      )\n",
        "    )"
      ],
      "execution_count": null,
      "outputs": [
        {
          "output_type": "execute_result",
          "data": {
            "text/plain": [
              "<tf.Tensor: shape=(), dtype=float32, numpy=0.9389313>"
            ]
          },
          "metadata": {
            "tags": []
          },
          "execution_count": 8
        }
      ]
    },
    {
      "cell_type": "code",
      "metadata": {
        "id": "Wx3pn9CcCG1v"
      },
      "source": [
        "trainFormatted = trainDataset.map(formatImage)\n",
        "testFormatted = testDataset.map(formatImage)\n",
        "train = trainFormatted.shuffle(1024).batch(64)\n",
        "test = testFormatted.shuffle(1024).batch(64)"
      ],
      "execution_count": null,
      "outputs": []
    },
    {
      "cell_type": "code",
      "metadata": {
        "id": "3OgNZ7F1x4KC"
      },
      "source": [
        "def getModel1():\n",
        "  modelIntermediate1 = Sequential([\n",
        "                      Conv2D(32, 3, input_shape = SHAPE),\n",
        "                      # BatchNormalization(),\n",
        "                      Activation('relu'), \n",
        "                      MaxPooling2D(), \n",
        "                      Conv2D(32, 3),\n",
        "                      # BatchNormalization(),\n",
        "                      Activation('relu'), \n",
        "                      MaxPooling2D(), \n",
        "                      Conv2D(64, 3),\n",
        "                      # BatchNormalization(),\n",
        "                      Activation('relu'), \n",
        "                      MaxPooling2D(), \n",
        "                      Conv2D(64, 3),\n",
        "                      # BatchNormalization(),\n",
        "                      Activation('relu'), \n",
        "                      MaxPooling2D() ,\n",
        "                      # Conv2D(128, 3),\n",
        "                      # # BatchNormalization(),\n",
        "                      # Activation('relu'), \n",
        "                      # MaxPooling2D()\n",
        "                      \n",
        "  ])\n",
        "  return modelIntermediate1"
      ],
      "execution_count": null,
      "outputs": []
    },
    {
      "cell_type": "code",
      "metadata": {
        "id": "qEbZTQV6GMbn"
      },
      "source": [
        "def getModel2():\n",
        "  modelIntermediate2 = Sequential([\n",
        "                      Conv2D(32, 3, input_shape = SHAPE),\n",
        "                      # BatchNormalization(),\n",
        "                      Activation('relu'), \n",
        "                      MaxPooling2D(), \n",
        "                      Conv2D(64, 3),\n",
        "                      # BatchNormalization(),\n",
        "                      Activation('relu'), \n",
        "                      MaxPooling2D(), \n",
        "                      Conv2D(128, 3),\n",
        "                      # BatchNormalization(),\n",
        "                      Activation('relu'), \n",
        "                      MaxPooling2D(), \n",
        "                      Conv2D(256, 3),\n",
        "                      # BatchNormalization(),\n",
        "                      Activation('relu'), \n",
        "                      MaxPooling2D() ,\n",
        "                      # Conv2D(128, 3),\n",
        "                      # # BatchNormalization(),\n",
        "                      # Activation('relu'), \n",
        "                      # MaxPooling2D()\n",
        "                      \n",
        "  ])\n",
        "  return modelIntermediate2"
      ],
      "execution_count": null,
      "outputs": []
    },
    {
      "cell_type": "code",
      "metadata": {
        "id": "cF_mxJ4JGU5B"
      },
      "source": [
        "input = Input(shape = SHAPE)\n",
        "x = input\n",
        "br1 = getModel1()(x)\n",
        "br2 = getModel2()(x)\n",
        "br1 = Flatten()(br1)\n",
        "br1 = Dense(128)(br1)\n",
        "br1 = BatchNormalization()(br1)\n",
        "br1 = Activation('relu')(br1)\n",
        "br1 = Dropout(.24)(br1)\n",
        "br1 = Dense(10, activation='softmax', name = 'classificationOutput')(br1)\n",
        "br2 = Conv2D(128, 2, activation='relu')(br2)\n",
        "br2 = Conv2D(64, 1)(br2)\n",
        "br2 = BatchNormalization()(br2)\n",
        "br2 = Activation('relu')(br2)\n",
        "br2 = Dropout(.2)(br2)\n",
        "br2 = Conv2D(4, 1, activation='relu')(br2)\n",
        "br2 = Flatten(name = 'boxOutput')(br2)\n",
        "model = Model(inputs = input, outputs = [br1, br2])\n"
      ],
      "execution_count": null,
      "outputs": []
    },
    {
      "cell_type": "code",
      "metadata": {
        "colab": {
          "base_uri": "https://localhost:8080/"
        },
        "id": "54O-0TI0K02s",
        "outputId": "5ef59c27-d136-4d1b-c769-ce3dea652cfb"
      },
      "source": [
        "model.summary()"
      ],
      "execution_count": null,
      "outputs": [
        {
          "output_type": "stream",
          "text": [
            "Model: \"model_7\"\n",
            "__________________________________________________________________________________________________\n",
            "Layer (type)                    Output Shape         Param #     Connected to                     \n",
            "==================================================================================================\n",
            "input_8 (InputLayer)            [(None, 64, 64, 1)]  0                                            \n",
            "__________________________________________________________________________________________________\n",
            "sequential_15 (Sequential)      (None, 2, 2, 256)    387840      input_8[0][0]                    \n",
            "__________________________________________________________________________________________________\n",
            "sequential_14 (Sequential)      (None, 2, 2, 64)     64992       input_8[0][0]                    \n",
            "__________________________________________________________________________________________________\n",
            "conv2d_85 (Conv2D)              (None, 1, 1, 128)    131200      sequential_15[0][0]              \n",
            "__________________________________________________________________________________________________\n",
            "flatten_7 (Flatten)             (None, 256)          0           sequential_14[0][0]              \n",
            "__________________________________________________________________________________________________\n",
            "conv2d_86 (Conv2D)              (None, 1, 1, 64)     8256        conv2d_85[0][0]                  \n",
            "__________________________________________________________________________________________________\n",
            "dense_7 (Dense)                 (None, 128)          32896       flatten_7[0][0]                  \n",
            "__________________________________________________________________________________________________\n",
            "batch_normalization_13 (BatchNo (None, 1, 1, 64)     256         conv2d_86[0][0]                  \n",
            "__________________________________________________________________________________________________\n",
            "batch_normalization_12 (BatchNo (None, 128)          512         dense_7[0][0]                    \n",
            "__________________________________________________________________________________________________\n",
            "activation_79 (Activation)      (None, 1, 1, 64)     0           batch_normalization_13[0][0]     \n",
            "__________________________________________________________________________________________________\n",
            "activation_78 (Activation)      (None, 128)          0           batch_normalization_12[0][0]     \n",
            "__________________________________________________________________________________________________\n",
            "dropout_15 (Dropout)            (None, 1, 1, 64)     0           activation_79[0][0]              \n",
            "__________________________________________________________________________________________________\n",
            "dropout_14 (Dropout)            (None, 128)          0           activation_78[0][0]              \n",
            "__________________________________________________________________________________________________\n",
            "conv2d_87 (Conv2D)              (None, 1, 1, 4)      260         dropout_15[0][0]                 \n",
            "__________________________________________________________________________________________________\n",
            "classificationOutput (Dense)    (None, 10)           1290        dropout_14[0][0]                 \n",
            "__________________________________________________________________________________________________\n",
            "boxOutput (Flatten)             (None, 4)            0           conv2d_87[0][0]                  \n",
            "==================================================================================================\n",
            "Total params: 627,502\n",
            "Trainable params: 627,118\n",
            "Non-trainable params: 384\n",
            "__________________________________________________________________________________________________\n"
          ],
          "name": "stdout"
        }
      ]
    },
    {
      "cell_type": "code",
      "metadata": {
        "colab": {
          "base_uri": "https://localhost:8080/",
          "height": 856
        },
        "id": "--rm-GrzHb3r",
        "outputId": "2b74363b-af04-47cd-985b-1890939c8f18"
      },
      "source": [
        "plot_model(model)"
      ],
      "execution_count": null,
      "outputs": [
        {
          "output_type": "execute_result",
          "data": {
            "image/png": "[encoded data removed]",
            "text/plain": [
              "<IPython.core.display.Image object>"
            ]
          },
          "metadata": {
            "tags": []
          },
          "execution_count": 43
        }
      ]
    },
    {
      "cell_type": "code",
      "metadata": {
        "id": "AitHtBycK3L-"
      },
      "source": [
        "model.compile(optimizer='adam', loss = {\n",
        "    'classificationOutput' : 'sparse_categorical_crossentropy',\n",
        "    'boxOutput' : 'mse' \n",
        "    }, metrics = {'classificationOutput' : 'accuracy', 'boxOutput' : costIOU})"
      ],
      "execution_count": null,
      "outputs": []
    },
    {
      "cell_type": "code",
      "metadata": {
        "colab": {
          "base_uri": "https://localhost:8080/"
        },
        "id": "e-TxZsQlLccE",
        "outputId": "3a1264d3-0382-4e43-e237-2f0fa6d1bcb3"
      },
      "source": [
        "history = model.fit(train, epochs=10, validation_data=test)"
      ],
      "execution_count": null,
      "outputs": [
        {
          "output_type": "stream",
          "text": [
            "Epoch 1/10\n",
            "938/938 [==============================] - 58s 60ms/step - loss: 0.3272 - classificationOutput_loss: 0.3154 - boxOutput_loss: 0.0118 - classificationOutput_accuracy: 0.9066 - boxOutput_costIOU: 0.3843 - val_loss: 3.1000 - val_classificationOutput_loss: 3.0851 - val_boxOutput_loss: 0.0150 - val_classificationOutput_accuracy: 0.3201 - val_boxOutput_costIOU: 0.6047\n",
            "Epoch 2/10\n",
            "938/938 [==============================] - 60s 64ms/step - loss: 0.0477 - classificationOutput_loss: 0.0473 - boxOutput_loss: 4.2419e-04 - classificationOutput_accuracy: 0.9859 - boxOutput_costIOU: 0.1191 - val_loss: 2.7084 - val_classificationOutput_loss: 2.6947 - val_boxOutput_loss: 0.0137 - val_classificationOutput_accuracy: 0.3367 - val_boxOutput_costIOU: 0.5914\n",
            "Epoch 3/10\n",
            "938/938 [==============================] - 59s 63ms/step - loss: 0.0365 - classificationOutput_loss: 0.0364 - boxOutput_loss: 8.6349e-05 - classificationOutput_accuracy: 0.9884 - boxOutput_costIOU: 0.0538 - val_loss: 2.2006 - val_classificationOutput_loss: 2.1861 - val_boxOutput_loss: 0.0146 - val_classificationOutput_accuracy: 0.3888 - val_boxOutput_costIOU: 0.5998\n",
            "Epoch 4/10\n",
            " 84/938 [=>............................] - ETA: 49s - loss: 0.0325 - classificationOutput_loss: 0.0324 - boxOutput_loss: 1.4336e-05 - classificationOutput_accuracy: 0.9881 - boxOutput_costIOU: 0.0225"
          ],
          "name": "stdout"
        }
      ]
    },
    {
      "cell_type": "code",
      "metadata": {
        "id": "bVXnjtArLyG7"
      },
      "source": [
        " t1 = tf.Variable([1, 3, 4, 5])\n",
        "t2 = tf.Variable([2, 3, 4, 5])"
      ],
      "execution_count": null,
      "outputs": []
    },
    {
      "cell_type": "code",
      "metadata": {
        "id": "VtZeatKgNOen"
      },
      "source": [
        "t1 >= t2"
      ],
      "execution_count": null,
      "outputs": []
    },
    {
      "cell_type": "code",
      "metadata": {
        "id": "1cqQM5ajNP9h"
      },
      "source": [
        "t1"
      ],
      "execution_count": null,
      "outputs": []
    },
    {
      "cell_type": "code",
      "metadata": {
        "id": "cutyIlapNRrD"
      },
      "source": [
        ""
      ],
      "execution_count": null,
      "outputs": []
    }
  ]
}