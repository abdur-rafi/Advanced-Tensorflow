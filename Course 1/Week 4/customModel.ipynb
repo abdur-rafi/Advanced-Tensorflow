{
  "nbformat": 4,
  "nbformat_minor": 0,
  "metadata": {
    "colab": {
      "name": "customModel.ipynb",
      "provenance": []
    },
    "kernelspec": {
      "name": "python3",
      "display_name": "Python 3"
    },
    "language_info": {
      "name": "python"
    }
  },
  "cells": [
    {
      "cell_type": "code",
      "metadata": {
        "id": "guAOTKMqlZUN"
      },
      "source": [
        "import tensorflow as tf\n",
        "from tensorflow.keras.layers import Input, Dense, Conv2D, BatchNormalization, Activation, Add,ZeroPadding2D,\\\n",
        "MaxPooling2D, AveragePooling2D,Flatten\n",
        "import numpy as np\n",
        "from tensorflow.keras.models import Model\n",
        "from tensorflow.keras.utils import plot_model"
      ],
      "execution_count": 1,
      "outputs": []
    },
    {
      "cell_type": "code",
      "metadata": {
        "id": "k10XyxzJoqzx"
      },
      "source": [
        "class identityBlock(Model):\n",
        "  def __init__(self,filters,kernelSize):\n",
        "    super(identityBlock,self).__init__()\n",
        "    self.cnns = [Conv2D(filters[i], kernelSize[i], padding='same') for i in range(3)]\n",
        "    self.bns = [BatchNormalization() for i in range(3)]\n",
        "    self.activation = Activation('relu')\n",
        "    self.add = Add()\n",
        "  \n",
        "  def call(self, inputTensor):\n",
        "    x = inputTensor\n",
        "    for i in range(2):\n",
        "      x = self.cnns[i](x)\n",
        "      x = self.bns[i](x)\n",
        "      x = self.activation(x)\n",
        "    x = self.cnns[2](x)\n",
        "    x = self.bns[2](x)\n",
        "    x = self.add([x,inputTensor])\n",
        "    x = self.activation(x)\n",
        "    return x\n",
        "\n",
        "class convolutionalBlock(Model):\n",
        "  def __init__(self, filters, kernelSize,strides):\n",
        "    super(convolutionalBlock,self).__init__()\n",
        "    self.cnns = [Conv2D(filters[i], kernelSize[i], padding='same',strides=strides[i]) for i in range(4)]\n",
        "    self.bns = [BatchNormalization() for i in range(4)]\n",
        "    self.activation = Activation('relu')\n",
        "    self.add = Add()\n",
        "  \n",
        "  def call(self, inputTensor):\n",
        "    br1 = self.cnns[3](inputTensor)\n",
        "    br1 = self.bns[3](br1)\n",
        "    br2 = inputTensor\n",
        "    for i in range(2):\n",
        "      br2 = self.cnns[i](br2)\n",
        "      br2 = self.bns[i](br2)\n",
        "      br2 = self.activation(br2)\n",
        "    br2 = self.cnns[2](br2)\n",
        "    br2 = self.bns[2](br2)\n",
        "    x = self.add([br2, br1])\n",
        "    x = self.activation(x)\n",
        "    return x\n",
        "  "
      ],
      "execution_count": 8,
      "outputs": []
    },
    {
      "cell_type": "code",
      "metadata": {
        "id": "BqFG0u2yuxE_",
        "colab": {
          "base_uri": "https://localhost:8080/"
        },
        "outputId": "992c7ed7-6a43-43f7-b119-3a9e740f543e"
      },
      "source": [
        "model = identityBlock([3,3,3],[3,3,3])\n",
        "model.build((None,128, 128, 3))\n",
        "\n",
        "model.summary()\n"
      ],
      "execution_count": 9,
      "outputs": [
        {
          "output_type": "stream",
          "text": [
            "Model: \"identity_block_1\"\n",
            "_________________________________________________________________\n",
            "Layer (type)                 Output Shape              Param #   \n",
            "=================================================================\n",
            "conv2d_13 (Conv2D)           multiple                  84        \n",
            "_________________________________________________________________\n",
            "conv2d_14 (Conv2D)           multiple                  84        \n",
            "_________________________________________________________________\n",
            "conv2d_15 (Conv2D)           multiple                  84        \n",
            "_________________________________________________________________\n",
            "batch_normalization_5 (Batch multiple                  12        \n",
            "_________________________________________________________________\n",
            "batch_normalization_6 (Batch multiple                  12        \n",
            "_________________________________________________________________\n",
            "batch_normalization_7 (Batch multiple                  12        \n",
            "_________________________________________________________________\n",
            "activation_1 (Activation)    multiple                  0         \n",
            "_________________________________________________________________\n",
            "add_1 (Add)                  multiple                  0         \n",
            "=================================================================\n",
            "Total params: 288\n",
            "Trainable params: 270\n",
            "Non-trainable params: 18\n",
            "_________________________________________________________________\n"
          ],
          "name": "stdout"
        }
      ]
    },
    {
      "cell_type": "code",
      "metadata": {
        "id": "qdKbfPpk0BxS"
      },
      "source": [
        "class resNet50(Model):\n",
        "  def __init__(self, numberOfClasses):\n",
        "    super(resNet50,self).__init__()\n",
        "    self.zeroPadding = ZeroPadding2D((3,3))\n",
        "    self.conv1 = Conv2D(64,(7,7),strides=(2,2))\n",
        "    self.bn1 = BatchNormalization()\n",
        "    self.activation = Activation('relu')\n",
        "    self.maxPool1 = MaxPooling2D((3,3), strides=(2,2))\n",
        "\n",
        "    self.cn1 = convolutionalBlock( [64,64,256,256],[1,3,1,1],[1,1,1,1])\n",
        "    self.id1 = [identityBlock([64,64,256],[1,3,1]) for i in range(2)]\n",
        "\n",
        "    self.cn2 = convolutionalBlock( [128,128,512,512],[1,3,1,1],[2,1,1,2])\n",
        "    self.id2 = [identityBlock([128,128,512],[1,3,1]) for i in range(3)]\n",
        "\n",
        "    self.cn3 = convolutionalBlock([256, 256, 1024,1024],[1,3,1,1],[2,1,1,2])\n",
        "    self.id3 = [identityBlock([256,256,1024],[1,3,1]) for i in range(5)]\n",
        "\n",
        "    self.cn4 = convolutionalBlock([512, 512, 2048,2048],[1,3,1,1],[2,1,1,2])\n",
        "    self.id4 = [identityBlock([256,256,2048],[1,3,1]) for i in range(2)]\n",
        "    self.averagePooling = AveragePooling2D(padding='same')\n",
        "    self.f = Flatten()\n",
        "    self.dense = Dense(numberOfClasses, activation='softmax')\n",
        "\n",
        "  def call(self,x):\n",
        "    x = self.zeroPadding(x)\n",
        "    x = self.conv1(x)\n",
        "    x = self.bn1(x)\n",
        "    x = self.activation(x)\n",
        "    x = self.maxPool1(x)\n",
        "\n",
        "    x = self.cn1(x)\n",
        "    for id in self.id1:\n",
        "      x = id(x)\n",
        "\n",
        "    x = self.cn2(x)\n",
        "    for id in self.id2:\n",
        "      x = id(x)\n",
        "\n",
        "    x = self.cn3(x)\n",
        "    for id in self.id3:\n",
        "      x = id(x)\n",
        "\n",
        "    x = self.cn4(x)\n",
        "    for id in self.id4:\n",
        "      x = id(x)\n",
        "    \n",
        "    x = self.averagePooling(x)\n",
        "    x = self.f(x)\n",
        "    x = self.dense(x)\n",
        "\n",
        "    return x\n"
      ],
      "execution_count": 30,
      "outputs": []
    },
    {
      "cell_type": "code",
      "metadata": {
        "id": "Hjx-znXCctDj"
      },
      "source": [
        "model = resNet50(10)"
      ],
      "execution_count": 31,
      "outputs": []
    },
    {
      "cell_type": "code",
      "metadata": {
        "id": "a_dVtw7cvCh1"
      },
      "source": [
        "model.build((None,64,64,3))"
      ],
      "execution_count": 32,
      "outputs": []
    },
    {
      "cell_type": "code",
      "metadata": {
        "colab": {
          "base_uri": "https://localhost:8080/"
        },
        "id": "G6HTsDzyeucE",
        "outputId": "23817e03-cbfb-45ee-b0d2-f2a2ee3edfbf"
      },
      "source": [
        "model.summary()"
      ],
      "execution_count": 33,
      "outputs": [
        {
          "output_type": "stream",
          "text": [
            "Model: \"res_net50_7\"\n",
            "_________________________________________________________________\n",
            "Layer (type)                 Output Shape              Param #   \n",
            "=================================================================\n",
            "zero_padding2d_7 (ZeroPaddin multiple                  0         \n",
            "_________________________________________________________________\n",
            "conv2d_281 (Conv2D)          multiple                  9472      \n",
            "_________________________________________________________________\n",
            "batch_normalization_273 (Bat multiple                  256       \n",
            "_________________________________________________________________\n",
            "activation_83 (Activation)   multiple                  0         \n",
            "_________________________________________________________________\n",
            "max_pooling2d_7 (MaxPooling2 multiple                  0         \n",
            "_________________________________________________________________\n",
            "convolutional_block_20 (conv multiple                  76928     \n",
            "_________________________________________________________________\n",
            "identity_block_62 (identityB multiple                  71552     \n",
            "_________________________________________________________________\n",
            "identity_block_63 (identityB multiple                  71552     \n",
            "_________________________________________________________________\n",
            "convolutional_block_21 (conv multiple                  383232    \n",
            "_________________________________________________________________\n",
            "identity_block_64 (identityB multiple                  282368    \n",
            "_________________________________________________________________\n",
            "identity_block_65 (identityB multiple                  282368    \n",
            "_________________________________________________________________\n",
            "identity_block_66 (identityB multiple                  282368    \n",
            "_________________________________________________________________\n",
            "convolutional_block_22 (conv multiple                  1520128   \n",
            "_________________________________________________________________\n",
            "identity_block_67 (identityB multiple                  1121792   \n",
            "_________________________________________________________________\n",
            "identity_block_68 (identityB multiple                  1121792   \n",
            "_________________________________________________________________\n",
            "identity_block_69 (identityB multiple                  1121792   \n",
            "_________________________________________________________________\n",
            "identity_block_70 (identityB multiple                  1121792   \n",
            "_________________________________________________________________\n",
            "identity_block_71 (identityB multiple                  1121792   \n",
            "_________________________________________________________________\n",
            "convolutional_block_23 (conv multiple                  6054912   \n",
            "_________________________________________________________________\n",
            "identity_block_72 (identityB multiple                  1651200   \n",
            "_________________________________________________________________\n",
            "identity_block_73 (identityB multiple                  1651200   \n",
            "_________________________________________________________________\n",
            "average_pooling2d_5 (Average multiple                  0         \n",
            "_________________________________________________________________\n",
            "flatten_5 (Flatten)          multiple                  0         \n",
            "_________________________________________________________________\n",
            "dense_5 (Dense)              multiple                  20490     \n",
            "=================================================================\n",
            "Total params: 17,966,986\n",
            "Trainable params: 17,915,914\n",
            "Non-trainable params: 51,072\n",
            "_________________________________________________________________\n"
          ],
          "name": "stdout"
        }
      ]
    },
    {
      "cell_type": "code",
      "metadata": {
        "id": "Z_ZuyG6fezSf"
      },
      "source": [
        ""
      ],
      "execution_count": null,
      "outputs": []
    }
  ]
}