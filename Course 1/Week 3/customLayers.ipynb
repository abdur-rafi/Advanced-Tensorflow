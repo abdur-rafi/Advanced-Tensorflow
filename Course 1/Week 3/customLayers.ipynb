{
  "nbformat": 4,
  "nbformat_minor": 0,
  "metadata": {
    "colab": {
      "name": "customLayers.ipynb",
      "provenance": []
    },
    "kernelspec": {
      "name": "python3",
      "display_name": "Python 3"
    },
    "language_info": {
      "name": "python"
    }
  },
  "cells": [
    {
      "cell_type": "code",
      "metadata": {
        "id": "uj-eP3XAttKF"
      },
      "source": [
        "import tensorflow as tf\n",
        "import numpy as np\n",
        "from tensorflow.keras.layers import Input,Layer,Dense\n",
        "from tensorflow.keras.models import Model\n",
        "from tensorflow.keras.utils import plot_model"
      ],
      "execution_count": 1,
      "outputs": []
    },
    {
      "cell_type": "code",
      "metadata": {
        "id": "AYMZQNDausGU"
      },
      "source": [
        "class customDense(Layer):\n",
        "  def __init__(self,units = 32,activation = None):\n",
        "    super(customDense,self).__init__()\n",
        "    self.units = units\n",
        "    self.activation = tf.keras.activations.get(activation)\n",
        "  \n",
        "  def build(self, inputShape):\n",
        "    weightInitializer = tf.random_normal_initializer()\n",
        "    self.w = tf.Variable(\n",
        "        initial_value = weightInitializer(shape=(inputShape[-1],self.units),dtype='float32'),\n",
        "        trainable = True\n",
        "        )\n",
        "    biasInitializer = tf.zeros_initializer()\n",
        "    self.b = tf.Variable(\n",
        "        initial_value=biasInitializer(shape=(self.units),dtype='float32'),\n",
        "        trainable = True\n",
        "        )\n",
        "    super().build(inputShape)\n",
        "\n",
        "  def call(self,x):\n",
        "    return self.activation(tf.linalg.matmul(x,self.w) + self.b)\n"
      ],
      "execution_count": 2,
      "outputs": []
    },
    {
      "cell_type": "code",
      "metadata": {
        "id": "wWv7lGhbXjn-"
      },
      "source": [
        "xtr = np.array([ 0, 1, 2, 3, 5, 6, 9, 8 ])\n",
        "ytr = np.array([ 1, 3, 5, 7, 11, 13, 19, 17])\n",
        "\n",
        "def getModel():\n",
        "  input = Input(shape=(1,))\n",
        "  x = input\n",
        "  x = customDense(1,activation='relu')(x)\n",
        "  model = Model(inputs = input, outputs = x)\n",
        "  return model"
      ],
      "execution_count": 3,
      "outputs": []
    },
    {
      "cell_type": "code",
      "metadata": {
        "colab": {
          "base_uri": "https://localhost:8080/",
          "height": 201
        },
        "id": "XPFlWhjcZa_Z",
        "outputId": "1aab96d4-f6c6-4e6e-9d20-c61bf8018a3c"
      },
      "source": [
        "model = getModel()\n",
        "model.compile(optimizer='sgd', loss = 'mse')\n",
        "plot_model(model,show_shapes=True)"
      ],
      "execution_count": 4,
      "outputs": [
        {
          "output_type": "execute_result",
          "data": {
            "image/png": "[encoded data removed]",
            "text/plain": [
              "<IPython.core.display.Image object>"
            ]
          },
          "metadata": {
            "tags": []
          },
          "execution_count": 4
        }
      ]
    },
    {
      "cell_type": "code",
      "metadata": {
        "id": "B3gbgFfSZtri"
      },
      "source": [
        "history = model.fit( x = xtr, y = ytr, epochs=500,verbose = 0)"
      ],
      "execution_count": 5,
      "outputs": []
    },
    {
      "cell_type": "code",
      "metadata": {
        "colab": {
          "base_uri": "https://localhost:8080/"
        },
        "id": "ljIiP2v1aC5H",
        "outputId": "3d1609c2-f103-4e21-b9bc-56c1e441e847"
      },
      "source": [
        "# expected value : 21\n",
        "model.predict([10])"
      ],
      "execution_count": 6,
      "outputs": [
        {
          "output_type": "execute_result",
          "data": {
            "text/plain": [
              "array([[21.013317]], dtype=float32)"
            ]
          },
          "metadata": {
            "tags": []
          },
          "execution_count": 6
        }
      ]
    },
    {
      "cell_type": "code",
      "metadata": {
        "colab": {
          "base_uri": "https://localhost:8080/"
        },
        "id": "XNOBCALK1vJL",
        "outputId": "9d085ddf-024f-46c9-d40f-747b19238df8"
      },
      "source": [
        "model.layers[1].weights"
      ],
      "execution_count": 7,
      "outputs": [
        {
          "output_type": "execute_result",
          "data": {
            "text/plain": [
              "[<tf.Variable 'custom_dense/Variable:0' shape=(1, 1) dtype=float32, numpy=array([[2.0036907]], dtype=float32)>,\n",
              " <tf.Variable 'custom_dense/Variable:0' shape=(1,) dtype=float32, numpy=array([0.97640973], dtype=float32)>]"
            ]
          },
          "metadata": {
            "tags": []
          },
          "execution_count": 7
        }
      ]
    },
    {
      "cell_type": "code",
      "metadata": {
        "id": "0VKxY7thbCLz"
      },
      "source": [
        "# ax^2 + bx + c\n",
        "a = 1\n",
        "b = 2\n",
        "c = 1\n",
        "xtr = np.random.choice(20, 5)\n",
        "ytr = []\n",
        "for x in xtr:\n",
        "  ytr.append(a * x * x + b * x + c)\n",
        "ytr = np.array(ytr)"
      ],
      "execution_count": 8,
      "outputs": []
    },
    {
      "cell_type": "code",
      "metadata": {
        "id": "6fm2xxSTdTYk"
      },
      "source": [
        "class polynomialDense(Layer):\n",
        "  def __init__(self,units = 32,activation = None):\n",
        "    super(polynomialDense,self).__init__()\n",
        "    self.units = units\n",
        "    self.activation = tf.keras.activations.get(activation)\n",
        "  \n",
        "  def build(self, inputShape):\n",
        "    weightInitializer = tf.random_normal_initializer()\n",
        "    self.w1 = tf.Variable(\n",
        "                initial_value = weightInitializer(shape=(inputShape[-1],self.units),dtype='float32'),\n",
        "                trainable = True\n",
        "            )\n",
        "    self.w2 = tf.Variable(\n",
        "                initial_value = weightInitializer(shape=(inputShape[-1],self.units),dtype='float32'),\n",
        "                trainable = True\n",
        "            )\n",
        "    biasInitializer = tf.zeros_initializer()\n",
        "    self.b = tf.Variable(\n",
        "          initial_value=biasInitializer(shape=(self.units),dtype='float32'),\n",
        "          trainable = True\n",
        "        )\n",
        "\n",
        "  def call(self,x):\n",
        "    return self.activation(tf.linalg.matmul( tf.math.pow(x,2),self.w1) + tf.linalg.matmul(x ,self.w2) + self.b)"
      ],
      "execution_count": 9,
      "outputs": []
    },
    {
      "cell_type": "code",
      "metadata": {
        "id": "39AXXrCSfgQi"
      },
      "source": [
        "def getModelPoly():\n",
        "  input = Input(shape=(1,))\n",
        "  x = polynomialDense(units = 1,activation='relu')(input)\n",
        "  model = Model(inputs = input, outputs = x)\n",
        "  return model"
      ],
      "execution_count": 10,
      "outputs": []
    },
    {
      "cell_type": "code",
      "metadata": {
        "colab": {
          "base_uri": "https://localhost:8080/",
          "height": 201
        },
        "id": "FOKkw5BlwNg4",
        "outputId": "1b83c6a2-80e0-4173-93b5-24315a8edbdf"
      },
      "source": [
        "model = getModelPoly()\n",
        "model.compile(optimizer=tf.keras.optimizers.SGD(learning_rate=.00001), loss = 'mse')\n",
        "history = model.fit(x = xtr, y = ytr, epochs=2500,verbose = 0)\n",
        "plot_model(model, show_shapes=True)"
      ],
      "execution_count": 11,
      "outputs": [
        {
          "output_type": "execute_result",
          "data": {
            "image/png": "[encoded data removed]",
            "text/plain": [
              "<IPython.core.display.Image object>"
            ]
          },
          "metadata": {
            "tags": []
          },
          "execution_count": 11
        }
      ]
    },
    {
      "cell_type": "code",
      "metadata": {
        "colab": {
          "base_uri": "https://localhost:8080/"
        },
        "id": "VYbhWeN6w-7p",
        "outputId": "04673094-fd36-41b8-dc71-a539ce45c518"
      },
      "source": [
        "# expected value : 676\n",
        "model.predict([25])"
      ],
      "execution_count": 12,
      "outputs": [
        {
          "output_type": "execute_result",
          "data": {
            "text/plain": [
              "array([[691.74835]], dtype=float32)"
            ]
          },
          "metadata": {
            "tags": []
          },
          "execution_count": 12
        }
      ]
    },
    {
      "cell_type": "code",
      "metadata": {
        "colab": {
          "base_uri": "https://localhost:8080/"
        },
        "id": "7T3BnHUNyUUq",
        "outputId": "6e8e507f-10f2-4b6e-93fc-36e780085051"
      },
      "source": [
        "model.layers[1].weights"
      ],
      "execution_count": 13,
      "outputs": [
        {
          "output_type": "execute_result",
          "data": {
            "text/plain": [
              "[<tf.Variable 'polynomial_dense/Variable:0' shape=(1, 1) dtype=float32, numpy=array([[1.0830088]], dtype=float32)>,\n",
              " <tf.Variable 'polynomial_dense/Variable:0' shape=(1, 1) dtype=float32, numpy=array([[0.589213]], dtype=float32)>,\n",
              " <tf.Variable 'polynomial_dense/Variable:0' shape=(1,) dtype=float32, numpy=array([0.13752462], dtype=float32)>]"
            ]
          },
          "metadata": {
            "tags": []
          },
          "execution_count": 13
        }
      ]
    },
    {
      "cell_type": "code",
      "metadata": {
        "id": "lbejHjVzCvo5"
      },
      "source": [
        ""
      ],
      "execution_count": 13,
      "outputs": []
    }
  ]
}