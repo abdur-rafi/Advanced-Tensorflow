{
  "nbformat": 4,
  "nbformat_minor": 0,
  "metadata": {
    "colab": {
      "name": "customLayers.ipynb",
      "provenance": []
    },
    "kernelspec": {
      "name": "python3",
      "display_name": "Python 3"
    },
    "language_info": {
      "name": "python"
    }
  },
  "cells": [
    {
      "cell_type": "code",
      "metadata": {
        "id": "uj-eP3XAttKF"
      },
      "source": [
        "import tensorflow as tf\n",
        "import numpy as np\n",
        "from tensorflow.keras.layers import Input,Layer,Dense\n",
        "from tensorflow.keras.models import Model"
      ],
      "execution_count": 115,
      "outputs": []
    },
    {
      "cell_type": "code",
      "metadata": {
        "id": "AYMZQNDausGU"
      },
      "source": [
        "class customDense(Layer):\n",
        "  def __init__(self,units = 32):\n",
        "    super(customDense,self).__init__()\n",
        "    self.units = units\n",
        "  \n",
        "  def build(self, inputShape):\n",
        "    weightInitializer = tf.random_normal_initializer()\n",
        "    self.w = tf.Variable(\n",
        "        initial_value = weightInitializer(shape=(inputShape[-1],self.units),dtype='float32'),\n",
        "        trainable = True\n",
        "        )\n",
        "    biasInitializer = tf.zeros_initializer()\n",
        "    self.b = tf.Variable(\n",
        "        initial_value=biasInitializer(shape=(self.units),dtype='float32'),\n",
        "        trainable = True\n",
        "        )\n",
        "\n",
        "  def call(self,x):\n",
        "    return tf.linalg.matmul(x,self.w) + self.b\n"
      ],
      "execution_count": 122,
      "outputs": []
    },
    {
      "cell_type": "code",
      "metadata": {
        "id": "wWv7lGhbXjn-"
      },
      "source": [
        "xtr = np.array([-5, -3, -2, 0, 1, 2, 3, 5, 6, 9, 8 ])\n",
        "ytr = np.array([-9, -5, -3, 1, 3, 5, 7, 11, 13, 19, 17])\n",
        "\n",
        "def getModel():\n",
        "  input = Input(shape=(1,))\n",
        "  x = customDense(32)(input)\n",
        "  x = customDense(1)(x)\n",
        "  model = Model(inputs = input, outputs = x)\n",
        "  return model"
      ],
      "execution_count": 124,
      "outputs": []
    },
    {
      "cell_type": "code",
      "metadata": {
        "id": "XPFlWhjcZa_Z"
      },
      "source": [
        "model = getModel()\n",
        "model.compile(optimizer='sgd', loss = 'mse')"
      ],
      "execution_count": 125,
      "outputs": []
    },
    {
      "cell_type": "code",
      "metadata": {
        "id": "B3gbgFfSZtri"
      },
      "source": [
        "history = model.fit(x = xtr, y = ytr, epochs=500,verbose = 0)"
      ],
      "execution_count": 126,
      "outputs": []
    },
    {
      "cell_type": "code",
      "metadata": {
        "colab": {
          "base_uri": "https://localhost:8080/"
        },
        "id": "ljIiP2v1aC5H",
        "outputId": "c60a189c-6672-473e-d8b8-0bb08058cc55"
      },
      "source": [
        "# expected value : 21\n",
        "model.predict([10])"
      ],
      "execution_count": 127,
      "outputs": [
        {
          "output_type": "stream",
          "text": [
            "WARNING:tensorflow:8 out of the last 8 calls to <function Model.make_predict_function.<locals>.predict_function at 0x7f90a9d927a0> triggered tf.function retracing. Tracing is expensive and the excessive number of tracings could be due to (1) creating @tf.function repeatedly in a loop, (2) passing tensors with different shapes, (3) passing Python objects instead of tensors. For (1), please define your @tf.function outside of the loop. For (2), @tf.function has experimental_relax_shapes=True option that relaxes argument shapes that can avoid unnecessary retracing. For (3), please refer to https://www.tensorflow.org/guide/function#controlling_retracing and https://www.tensorflow.org/api_docs/python/tf/function for  more details.\n"
          ],
          "name": "stdout"
        },
        {
          "output_type": "execute_result",
          "data": {
            "text/plain": [
              "array([[21.000002]], dtype=float32)"
            ]
          },
          "metadata": {
            "tags": []
          },
          "execution_count": 127
        }
      ]
    },
    {
      "cell_type": "code",
      "metadata": {
        "colab": {
          "base_uri": "https://localhost:8080/"
        },
        "id": "XNOBCALK1vJL",
        "outputId": "cac59a80-c7b0-47ec-e064-6c7e5e92cb81"
      },
      "source": [
        "model.layers[1].weights"
      ],
      "execution_count": 72,
      "outputs": [
        {
          "output_type": "execute_result",
          "data": {
            "text/plain": [
              "[<tf.Variable 'custom_dense_3/Variable:0' shape=(1, 1) dtype=float32, numpy=array([[2.0000267]], dtype=float32)>,\n",
              " <tf.Variable 'custom_dense_3/Variable:0' shape=(1, 1) dtype=float32, numpy=array([[0.9997224]], dtype=float32)>]"
            ]
          },
          "metadata": {
            "tags": []
          },
          "execution_count": 72
        }
      ]
    },
    {
      "cell_type": "code",
      "metadata": {
        "id": "0VKxY7thbCLz"
      },
      "source": [
        "# ax^2 + bx + c\n",
        "a = 1\n",
        "b = 2\n",
        "c = 1\n",
        "xtr = np.random.choice(20, 5)\n",
        "ytr = []\n",
        "for x in xtr:\n",
        "  ytr.append(a * x * x + b * x + c)\n",
        "ytr = np.array(ytr)"
      ],
      "execution_count": 159,
      "outputs": []
    },
    {
      "cell_type": "code",
      "metadata": {
        "id": "6fm2xxSTdTYk"
      },
      "source": [
        "class polynomialDense(Layer):\n",
        "  def __init__(self,degree = 2,units = 32):\n",
        "    super(polynomialDense,self).__init__()\n",
        "    self.units = units\n",
        "    self.degree = degree\n",
        "  \n",
        "  def build(self, inputShape):\n",
        "    weightInitializer = tf.random_normal_initializer()\n",
        "    self.w1 = tf.Variable(\n",
        "                initial_value = weightInitializer(shape=(inputShape[-1],self.units),dtype='float32'),\n",
        "                trainable = True\n",
        "            )\n",
        "    self.w2 = tf.Variable(\n",
        "                initial_value = weightInitializer(shape=(inputShape[-1],self.units),dtype='float32'),\n",
        "                trainable = True\n",
        "            )\n",
        "    biasInitializer = tf.zeros_initializer()\n",
        "    self.b = tf.Variable(\n",
        "          initial_value=biasInitializer(shape=(self.units),dtype='float32'),\n",
        "          trainable = True\n",
        "        )\n",
        "\n",
        "  def call(self,x):\n",
        "    return tf.linalg.matmul( tf.math.pow(x,2),self.w1) + tf.linalg.matmul(x ,self.w2) + self.b"
      ],
      "execution_count": 145,
      "outputs": []
    },
    {
      "cell_type": "code",
      "metadata": {
        "id": "39AXXrCSfgQi"
      },
      "source": [
        "def getModelPoly():\n",
        "  input = Input(shape=(1,))\n",
        "  x = polynomialDense(units = 1)(input)\n",
        "  # x = polynomialDense(units = 1)(x)\n",
        "  # x = customDense(1)(x)\n",
        "  model = Model(inputs = input, outputs = x)\n",
        "  return model"
      ],
      "execution_count": 160,
      "outputs": []
    },
    {
      "cell_type": "code",
      "metadata": {
        "id": "FOKkw5BlwNg4"
      },
      "source": [
        "model = getModelPoly()\n",
        "model.compile(optimizer=tf.keras.optimizers.SGD(learning_rate=.00001), loss = 'mse')\n",
        "history = model.fit(x = xtr, y = ytr, epochs=2000,verbose = 0)"
      ],
      "execution_count": 164,
      "outputs": []
    },
    {
      "cell_type": "code",
      "metadata": {
        "colab": {
          "base_uri": "https://localhost:8080/"
        },
        "id": "VYbhWeN6w-7p",
        "outputId": "c1b4c05f-fac3-4db8-ea69-0b7d3fc1ed9e"
      },
      "source": [
        "# expected value : 676\n",
        "model.predict([25])"
      ],
      "execution_count": 165,
      "outputs": [
        {
          "output_type": "stream",
          "text": [
            "WARNING:tensorflow:11 out of the last 11 calls to <function Model.make_predict_function.<locals>.predict_function at 0x7f90bfca5e60> triggered tf.function retracing. Tracing is expensive and the excessive number of tracings could be due to (1) creating @tf.function repeatedly in a loop, (2) passing tensors with different shapes, (3) passing Python objects instead of tensors. For (1), please define your @tf.function outside of the loop. For (2), @tf.function has experimental_relax_shapes=True option that relaxes argument shapes that can avoid unnecessary retracing. For (3), please refer to https://www.tensorflow.org/guide/function#controlling_retracing and https://www.tensorflow.org/api_docs/python/tf/function for  more details.\n"
          ],
          "name": "stdout"
        },
        {
          "output_type": "execute_result",
          "data": {
            "text/plain": [
              "array([[695.16144]], dtype=float32)"
            ]
          },
          "metadata": {
            "tags": []
          },
          "execution_count": 165
        }
      ]
    },
    {
      "cell_type": "code",
      "metadata": {
        "colab": {
          "base_uri": "https://localhost:8080/"
        },
        "id": "7T3BnHUNyUUq",
        "outputId": "f273f352-0148-4c6c-fb1a-969fde0cc252"
      },
      "source": [
        "model.layers[1].weights"
      ],
      "execution_count": 166,
      "outputs": [
        {
          "output_type": "execute_result",
          "data": {
            "text/plain": [
              "[<tf.Variable 'polynomial_dense_63/Variable:0' shape=(1, 1) dtype=float32, numpy=array([[1.0960505]], dtype=float32)>,\n",
              " <tf.Variable 'polynomial_dense_63/Variable:0' shape=(1, 1) dtype=float32, numpy=array([[0.40172762]], dtype=float32)>,\n",
              " <tf.Variable 'polynomial_dense_63/Variable:0' shape=(1,) dtype=float32, numpy=array([0.08668552], dtype=float32)>]"
            ]
          },
          "metadata": {
            "tags": []
          },
          "execution_count": 166
        }
      ]
    },
    {
      "cell_type": "code",
      "metadata": {
        "id": "2Vgu8GQk02Mj"
      },
      "source": [
        ""
      ],
      "execution_count": null,
      "outputs": []
    }
  ]
}