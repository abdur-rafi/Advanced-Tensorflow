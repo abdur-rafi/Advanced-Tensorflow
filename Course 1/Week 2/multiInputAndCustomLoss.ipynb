{
  "nbformat": 4,
  "nbformat_minor": 0,
  "metadata": {
    "colab": {
      "name": "Untitled2.ipynb",
      "provenance": []
    },
    "kernelspec": {
      "name": "python3",
      "display_name": "Python 3"
    },
    "language_info": {
      "name": "python"
    }
  },
  "cells": [
    {
      "cell_type": "code",
      "metadata": {
        "id": "RnItPBae7Tb6"
      },
      "source": [
        "import tensorflow as tf\n",
        "import numpy as np\n",
        "import pandas as pd\n",
        "from tensorflow.keras.models import Model\n",
        "from tensorflow.keras.layers import Dense, Input, Flatten, Dropout, Lambda, Conv2D,MaxPooling2D, Flatten\n",
        "from sklearn.model_selection import train_test_split\n",
        "from tensorflow.keras.utils import plot_model\n",
        "import matplotlib.pyplot as plt\n",
        "from tensorflow.keras.datasets import fashion_mnist\n"
      ],
      "execution_count": 1,
      "outputs": []
    },
    {
      "cell_type": "code",
      "metadata": {
        "id": "pch0cNTf869w",
        "colab": {
          "base_uri": "https://localhost:8080/"
        },
        "outputId": "f7e0d609-2248-4f0a-a084-5e97ed96cd66"
      },
      "source": [
        "(x_train, y_train), (x_test, y_test) = fashion_mnist.load_data()"
      ],
      "execution_count": 2,
      "outputs": [
        {
          "output_type": "stream",
          "text": [
            "Downloading data from https://storage.googleapis.com/tensorflow/tf-keras-datasets/train-labels-idx1-ubyte.gz\n",
            "32768/29515 [=================================] - 0s 0us/step\n",
            "Downloading data from https://storage.googleapis.com/tensorflow/tf-keras-datasets/train-images-idx3-ubyte.gz\n",
            "26427392/26421880 [==============================] - 1s 0us/step\n",
            "Downloading data from https://storage.googleapis.com/tensorflow/tf-keras-datasets/t10k-labels-idx1-ubyte.gz\n",
            "8192/5148 [===============================================] - 0s 0us/step\n",
            "Downloading data from https://storage.googleapis.com/tensorflow/tf-keras-datasets/t10k-images-idx3-ubyte.gz\n",
            "4423680/4422102 [==============================] - 0s 0us/step\n"
          ],
          "name": "stdout"
        }
      ]
    },
    {
      "cell_type": "code",
      "metadata": {
        "id": "ksT8tIQj9c-Y"
      },
      "source": [
        "x_train_normed = x_train / 255.0\n",
        "x_test_normed = x_test / 255.0\n"
      ],
      "execution_count": 3,
      "outputs": []
    },
    {
      "cell_type": "code",
      "metadata": {
        "colab": {
          "base_uri": "https://localhost:8080/"
        },
        "id": "eytImrXx9l8A",
        "outputId": "5d97f19e-2d7d-4a47-a2cf-43c3c3696e31"
      },
      "source": [
        "y_test.shape"
      ],
      "execution_count": 4,
      "outputs": [
        {
          "output_type": "execute_result",
          "data": {
            "text/plain": [
              "(10000,)"
            ]
          },
          "metadata": {
            "tags": []
          },
          "execution_count": 4
        }
      ]
    },
    {
      "cell_type": "code",
      "metadata": {
        "colab": {
          "base_uri": "https://localhost:8080/"
        },
        "id": "8kSVGNNI-BX3",
        "outputId": "f82375c7-500b-4b41-f7ca-0167bbd393d8"
      },
      "source": [
        "y_train[y_train == 1].shape"
      ],
      "execution_count": 5,
      "outputs": [
        {
          "output_type": "execute_result",
          "data": {
            "text/plain": [
              "(6000,)"
            ]
          },
          "metadata": {
            "tags": []
          },
          "execution_count": 5
        }
      ]
    },
    {
      "cell_type": "code",
      "metadata": {
        "colab": {
          "base_uri": "https://localhost:8080/"
        },
        "id": "bO3onuFI_If4",
        "outputId": "00a0702f-506e-4d93-8ad3-09de9bdc52fd"
      },
      "source": [
        "np.where(y_train == 1)[0].shape"
      ],
      "execution_count": 6,
      "outputs": [
        {
          "output_type": "execute_result",
          "data": {
            "text/plain": [
              "(6000,)"
            ]
          },
          "metadata": {
            "tags": []
          },
          "execution_count": 6
        }
      ]
    },
    {
      "cell_type": "code",
      "metadata": {
        "id": "CvgG3anx_8JU"
      },
      "source": [
        "indexes = np.where(y_train == 1)[0]"
      ],
      "execution_count": 7,
      "outputs": []
    },
    {
      "cell_type": "code",
      "metadata": {
        "colab": {
          "base_uri": "https://localhost:8080/"
        },
        "id": "zitxOo7YBUta",
        "outputId": "ee481d63-ab7a-481d-90fd-a1ffb3b070ea"
      },
      "source": [
        "np.random.choice(indexes.shape[0], replace = False)"
      ],
      "execution_count": 8,
      "outputs": [
        {
          "output_type": "execute_result",
          "data": {
            "text/plain": [
              "4819"
            ]
          },
          "metadata": {
            "tags": []
          },
          "execution_count": 8
        }
      ]
    },
    {
      "cell_type": "code",
      "metadata": {
        "colab": {
          "base_uri": "https://localhost:8080/"
        },
        "id": "4ce1nxWxDu2v",
        "outputId": "90337e5d-1ccb-4753-d380-dc94060376f5"
      },
      "source": [
        "indexes = np.arange(10)\n",
        "even_indexes = indexes[indexes % 2 == 0]\n",
        "print(even_indexes)"
      ],
      "execution_count": 9,
      "outputs": [
        {
          "output_type": "stream",
          "text": [
            "[0 2 4 6 8]\n"
          ],
          "name": "stdout"
        }
      ]
    },
    {
      "cell_type": "code",
      "metadata": {
        "id": "MxJJJKkSBu-6"
      },
      "source": [
        "def create_dataset_pairs(n_classes, labels):\n",
        "  #even = same , same = 1\n",
        "  pairs = []\n",
        "  pairs_label = []\n",
        "  for i in range(n_classes):\n",
        "    class_indexes = np.where(labels == i)[0]\n",
        "    not_class_indexes = np.where(labels != i)[0]\n",
        "    not_class_indexes = np.random.choice(not_class_indexes, class_indexes.shape[0], replace=False)\n",
        "    class_indexes_shuffled = class_indexes.copy()\n",
        "    np.random.shuffle(class_indexes_shuffled)\n",
        "    np.random.shuffle(not_class_indexes)\n",
        "    indexes = np.arange(2 * class_indexes.shape[0])\n",
        "    arr = np.zeros(shape=(2 * class_indexes.shape[0], 2),dtype='int')\n",
        "    arr[np.where(indexes % 2 == 0), 0] = class_indexes\n",
        "    arr[np.where(indexes % 2 == 0), 1] = class_indexes_shuffled\n",
        "    arr[np.where(indexes % 2 == 1), 0] = class_indexes\n",
        "    arr[np.where(indexes % 2 == 1), 1] = not_class_indexes\n",
        "    pair_label = indexes % 2 == 0\n",
        "    # print(pair_label)\n",
        "    pair_label = np.array(pair_label, dtype='int')\n",
        "    pairs_label.append(pair_label)\n",
        "    pairs.append(arr)\n",
        "  pairs = np.vstack(pairs)\n",
        "  pairs_label = np.concatenate(pairs_label)\n",
        "  return pairs, pairs_label"
      ],
      "execution_count": 10,
      "outputs": []
    },
    {
      "cell_type": "code",
      "metadata": {
        "id": "quHVrVI5Gaya"
      },
      "source": [
        "tr_pairs, tr_labels = create_dataset_pairs(10, y_train)\n",
        "ts_pairs, ts_labels = create_dataset_pairs(10,y_test)"
      ],
      "execution_count": 11,
      "outputs": []
    },
    {
      "cell_type": "code",
      "metadata": {
        "colab": {
          "base_uri": "https://localhost:8080/"
        },
        "id": "nDeJnPpsh_95",
        "outputId": "76cc1681-1a9d-4a81-a6f8-9c94e9788dd7"
      },
      "source": [
        "ts_labels.shape"
      ],
      "execution_count": 12,
      "outputs": [
        {
          "output_type": "execute_result",
          "data": {
            "text/plain": [
              "(20000,)"
            ]
          },
          "metadata": {
            "tags": []
          },
          "execution_count": 12
        }
      ]
    },
    {
      "cell_type": "code",
      "metadata": {
        "colab": {
          "base_uri": "https://localhost:8080/"
        },
        "id": "BaPFX6WzGWon",
        "outputId": "970980b5-40ec-4a03-d78b-e2abd102522e"
      },
      "source": [
        "np.random.choice(5, 5)"
      ],
      "execution_count": 13,
      "outputs": [
        {
          "output_type": "execute_result",
          "data": {
            "text/plain": [
              "array([3, 3, 0, 2, 4])"
            ]
          },
          "metadata": {
            "tags": []
          },
          "execution_count": 13
        }
      ]
    },
    {
      "cell_type": "code",
      "metadata": {
        "colab": {
          "base_uri": "https://localhost:8080/"
        },
        "id": "gNA4vajJHoFP",
        "outputId": "689ec8c8-dde4-4d40-cd4e-3dc1d19506df"
      },
      "source": [
        "np.random.choice([100,200,33], 2)"
      ],
      "execution_count": 14,
      "outputs": [
        {
          "output_type": "execute_result",
          "data": {
            "text/plain": [
              "array([100,  33])"
            ]
          },
          "metadata": {
            "tags": []
          },
          "execution_count": 14
        }
      ]
    },
    {
      "cell_type": "code",
      "metadata": {
        "id": "6ogIy71SIkSh"
      },
      "source": [
        "def show_pair(pairs,ind):\n",
        "  act_ind = int(pairs[ind,0])\n",
        "  plt.imshow(x_train[act_ind,:,:],cmap='gray')\n",
        "  plt.show()\n",
        "  print(y_train[act_ind])\n",
        "  act_ind = int(pairs[ind,1])\n",
        "  plt.imshow(x_train[act_ind,:,:],cmap='gray')\n",
        "  plt.show()\n",
        "  print(y_train[act_ind])"
      ],
      "execution_count": 15,
      "outputs": []
    },
    {
      "cell_type": "code",
      "metadata": {
        "id": "QFTd0M30Mg-z"
      },
      "source": [
        "for i in range(5):\n",
        "  show_pair(tr_pairs,i)"
      ],
      "execution_count": null,
      "outputs": []
    },
    {
      "cell_type": "code",
      "metadata": {
        "id": "_1p4iGKXMoxG"
      },
      "source": [
        "epsilon = 1e-7\n",
        "def euclidean_distance(x):\n",
        "  x1,x2 = x\n",
        "  sum = tf.reduce_sum(tf.math.square(x1 - x2), axis=1, keepdims = True)\n",
        "  return tf.math.maximum(sum,epsilon)\n",
        "\n",
        "def euclidean_distance_shape(s):\n",
        "  shape1, shape2 = s\n",
        "  return (shape1[0], 1)\n",
        "\n",
        "def get_model():\n",
        "  def get_base_model():\n",
        "    input = Input(shape=(28, 28,1))\n",
        "    x = input\n",
        "    x = Conv2D(32, 3, activation='relu')(x)\n",
        "    x = MaxPooling2D()(x)\n",
        "    x = Conv2D(64, 3, activation='relu')(x)\n",
        "    x = MaxPooling2D()(x)\n",
        "    x = Conv2D(128, 3, activation='relu')(x)\n",
        "    x = MaxPooling2D()(x)\n",
        "    x = Flatten()(x)\n",
        "    x = Dense(128, activation='relu')(x)\n",
        "    model = Model(inputs = input, outputs = x)\n",
        "    return model\n",
        "  input1 = Input(shape=(28, 28,1))\n",
        "  input2 = Input(shape=(28, 28,1))\n",
        "  base_model = get_base_model()\n",
        "  out1 = base_model(input1)\n",
        "  out2 = base_model(input2)\n",
        "  out = Lambda(euclidean_distance,euclidean_distance_shape)([out1, out2])\n",
        "  model = Model(inputs = [input1, input2], outputs = out)\n",
        "  return model\n",
        "\n",
        "  "
      ],
      "execution_count": 17,
      "outputs": []
    },
    {
      "cell_type": "code",
      "metadata": {
        "id": "kT0ZmkDhfjHZ"
      },
      "source": [
        "x_train_expanded = np.expand_dims(x_train_normed, axis = -1)\n",
        "x_test_expanded = np.expand_dims(x_test_normed, axis = -1)"
      ],
      "execution_count": 18,
      "outputs": []
    },
    {
      "cell_type": "code",
      "metadata": {
        "id": "Yca2qR6Rb1pp"
      },
      "source": [
        "def contrastive_loss(margin):\n",
        "  def loss(y_true, y_pred):\n",
        "    # loss = Y * Ypred^2 + (1 - Y) * (max(margin - Ypred))^2\n",
        "    squared = tf.math.square(y_pred)\n",
        "    margin_squared = tf.square(tf.maximum(margin - y_pred, 0))\n",
        "    return tf.math.reduce_mean(y_pred * squared + (margin - y_pred) * margin_squared)\n",
        "  return loss\n"
      ],
      "execution_count": 19,
      "outputs": []
    },
    {
      "cell_type": "code",
      "metadata": {
        "colab": {
          "base_uri": "https://localhost:8080/",
          "height": 604
        },
        "id": "Bot_1Pb6ZrS0",
        "outputId": "9861f66f-6856-4b7d-f17c-0c72a40f9f27"
      },
      "source": [
        "model = get_model()\n",
        "model.summary()\n",
        "plot_model(model,show_shapes=True)"
      ],
      "execution_count": 20,
      "outputs": [
        {
          "output_type": "stream",
          "text": [
            "Model: \"model_1\"\n",
            "__________________________________________________________________________________________________\n",
            "Layer (type)                    Output Shape         Param #     Connected to                     \n",
            "==================================================================================================\n",
            "input_1 (InputLayer)            [(None, 28, 28, 1)]  0                                            \n",
            "__________________________________________________________________________________________________\n",
            "input_2 (InputLayer)            [(None, 28, 28, 1)]  0                                            \n",
            "__________________________________________________________________________________________________\n",
            "model (Functional)              (None, 128)          109184      input_1[0][0]                    \n",
            "                                                                 input_2[0][0]                    \n",
            "__________________________________________________________________________________________________\n",
            "lambda (Lambda)                 (None, 1)            0           model[0][0]                      \n",
            "                                                                 model[1][0]                      \n",
            "==================================================================================================\n",
            "Total params: 109,184\n",
            "Trainable params: 109,184\n",
            "Non-trainable params: 0\n",
            "__________________________________________________________________________________________________\n"
          ],
          "name": "stdout"
        },
        {
          "output_type": "execute_result",
          "data": {
            "image/png": "[encoded data removed]",
            "text/plain": [
              "<IPython.core.display.Image object>"
            ]
          },
          "metadata": {
            "tags": []
          },
          "execution_count": 20
        }
      ]
    },
    {
      "cell_type": "code",
      "metadata": {
        "id": "S6U4AYrCfBvJ"
      },
      "source": [
        "optimizer = tf.keras.optimizers.SGD(learning_rate=.01)\n",
        "model.compile(optimizer=optimizer, loss=contrastive_loss(1))"
      ],
      "execution_count": 21,
      "outputs": []
    },
    {
      "cell_type": "code",
      "metadata": {
        "colab": {
          "base_uri": "https://localhost:8080/"
        },
        "id": "iLIjJ1tbinPf",
        "outputId": "19055309-e080-4833-bcd3-3d64e411946c"
      },
      "source": [
        "model.fit(x = (x_train_expanded[tr_pairs[:,0]],x_train_expanded[tr_pairs[:,1]]), y = tr_labels, epochs=20, batch_size=128, validation_data=((x_test_expanded[ts_pairs[:,0]],x_test_expanded[ts_pairs[:,1]]),ts_labels))"
      ],
      "execution_count": 22,
      "outputs": [
        {
          "output_type": "stream",
          "text": [
            "Epoch 1/20\n",
            "938/938 [==============================] - 42s 9ms/step - loss: 0.5062 - val_loss: 0.3554\n",
            "Epoch 2/20\n",
            "938/938 [==============================] - 8s 9ms/step - loss: 0.3430 - val_loss: 0.3263\n",
            "Epoch 3/20\n",
            "938/938 [==============================] - 8s 9ms/step - loss: 0.3168 - val_loss: 0.3072\n",
            "Epoch 4/20\n",
            "938/938 [==============================] - 8s 9ms/step - loss: 0.3052 - val_loss: 0.2985\n",
            "Epoch 5/20\n",
            "938/938 [==============================] - 8s 9ms/step - loss: 0.2976 - val_loss: 0.2966\n",
            "Epoch 6/20\n",
            "938/938 [==============================] - 8s 9ms/step - loss: 0.2929 - val_loss: 0.3005\n",
            "Epoch 7/20\n",
            "938/938 [==============================] - 8s 9ms/step - loss: 0.2895 - val_loss: 0.2938\n",
            "Epoch 8/20\n",
            "938/938 [==============================] - 8s 9ms/step - loss: 0.2870 - val_loss: 0.2868\n",
            "Epoch 9/20\n",
            "938/938 [==============================] - 8s 9ms/step - loss: 0.2848 - val_loss: 0.2900\n",
            "Epoch 10/20\n",
            "938/938 [==============================] - 8s 9ms/step - loss: 0.2833 - val_loss: 0.2890\n",
            "Epoch 11/20\n",
            "938/938 [==============================] - 8s 9ms/step - loss: 0.2817 - val_loss: 0.2829\n",
            "Epoch 12/20\n",
            "938/938 [==============================] - 8s 9ms/step - loss: 0.2805 - val_loss: 0.2832\n",
            "Epoch 13/20\n",
            "938/938 [==============================] - 8s 9ms/step - loss: 0.2793 - val_loss: 0.2820\n",
            "Epoch 14/20\n",
            "938/938 [==============================] - 8s 9ms/step - loss: 0.2786 - val_loss: 0.2821\n",
            "Epoch 15/20\n",
            "938/938 [==============================] - 8s 9ms/step - loss: 0.2777 - val_loss: 0.2826\n",
            "Epoch 16/20\n",
            "938/938 [==============================] - 8s 9ms/step - loss: 0.2770 - val_loss: 0.2811\n",
            "Epoch 17/20\n",
            "938/938 [==============================] - 8s 9ms/step - loss: 0.2762 - val_loss: 0.2926\n",
            "Epoch 18/20\n",
            "938/938 [==============================] - 8s 9ms/step - loss: 0.2759 - val_loss: 0.2793\n",
            "Epoch 19/20\n",
            "938/938 [==============================] - 8s 9ms/step - loss: 0.2751 - val_loss: 0.2805\n",
            "Epoch 20/20\n",
            "938/938 [==============================] - 8s 9ms/step - loss: 0.2748 - val_loss: 0.2812\n"
          ],
          "name": "stdout"
        },
        {
          "output_type": "execute_result",
          "data": {
            "text/plain": [
              "<tensorflow.python.keras.callbacks.History at 0x7f6b1e30e510>"
            ]
          },
          "metadata": {
            "tags": []
          },
          "execution_count": 22
        }
      ]
    },
    {
      "cell_type": "code",
      "metadata": {
        "id": "YtHGMRBGqZVb"
      },
      "source": [
        "model.save('/content/model.h5')"
      ],
      "execution_count": 24,
      "outputs": []
    },
    {
      "cell_type": "code",
      "metadata": {
        "id": "7pKwsWUdegQ1"
      },
      "source": [
        "model = tf.keras.models.load_model('/content/model.h5',custom_objects={'loss':contrastive_loss(1)})"
      ],
      "execution_count": 27,
      "outputs": []
    },
    {
      "cell_type": "code",
      "metadata": {
        "colab": {
          "base_uri": "https://localhost:8080/"
        },
        "id": "bPkLhjbLfku2",
        "outputId": "6064f188-14cf-4ce9-c70b-a2546560ee5c"
      },
      "source": [
        "model.summary()"
      ],
      "execution_count": 28,
      "outputs": [
        {
          "output_type": "stream",
          "text": [
            "Model: \"model_1\"\n",
            "__________________________________________________________________________________________________\n",
            "Layer (type)                    Output Shape         Param #     Connected to                     \n",
            "==================================================================================================\n",
            "input_1 (InputLayer)            [(None, 28, 28, 1)]  0                                            \n",
            "__________________________________________________________________________________________________\n",
            "input_2 (InputLayer)            [(None, 28, 28, 1)]  0                                            \n",
            "__________________________________________________________________________________________________\n",
            "model (Functional)              (None, 128)          109184      input_1[0][0]                    \n",
            "                                                                 input_2[0][0]                    \n",
            "__________________________________________________________________________________________________\n",
            "lambda (Lambda)                 (None, 1)            0           model[0][0]                      \n",
            "                                                                 model[1][0]                      \n",
            "==================================================================================================\n",
            "Total params: 109,184\n",
            "Trainable params: 109,184\n",
            "Non-trainable params: 0\n",
            "__________________________________________________________________________________________________\n"
          ],
          "name": "stdout"
        }
      ]
    },
    {
      "cell_type": "code",
      "metadata": {
        "id": "YVJbNu5wT_Nm"
      },
      "source": [
        "random_ind_train = np.random.choice(tr_pairs.shape[0], 20)\n",
        "random_ind_test = np.random.choice(ts_pairs.shape[0], 20)"
      ],
      "execution_count": 68,
      "outputs": []
    },
    {
      "cell_type": "code",
      "metadata": {
        "colab": {
          "base_uri": "https://localhost:8080/",
          "height": 306
        },
        "id": "kV4gW-UShLGz",
        "outputId": "99b2ce9f-0a2c-4c9e-8155-8407fe0cd74b"
      },
      "source": [
        "def show_pair_predicted(indexes, threshold,width_multiplier = 2,test = False):\n",
        "  plt.figure(figsize=(width_multiplier * len(indexes),3))\n",
        "  plt.box(None)\n",
        "  cont = np.concatenate(x_train[tr_pairs[indexes,0]],axis=1) * 255.0\n",
        "  plt.imshow(cont,cmap='gray_r')\n",
        "  plt.xticks([])\n",
        "  plt.yticks([])\n",
        "  plt.show()\n",
        "  plt.figure(figsize=(width_multiplier * len(indexes),3))\n",
        "  plt.box(None)\n",
        "  cont = np.concatenate(x_train[tr_pairs[indexes,1]],axis=1) * 255.0\n",
        "  plt.imshow(cont,cmap='gray_r')\n",
        "  plt.yticks([])\n",
        "  if test:\n",
        "    img_pairs = (x_test_expanded[ tr_pairs[indexes,0] ],x_test_expanded[ tr_pairs[indexes,1] ])\n",
        "  else:\n",
        "    img_pairs = (x_train_expanded[ tr_pairs[indexes,0] ],x_train_expanded[ tr_pairs[indexes,1] ])\n",
        "  predictions = model.predict(x = img_pairs)\n",
        "  # print(predictions)\n",
        "  plt.xticks([28*i+14 for i in range(len(indexes))],np.squeeze(predictions))\n",
        "  for i,t in enumerate(plt.gca().xaxis.get_ticklabels()):\n",
        "    if(predictions[i] > threshold):\n",
        "      t.set_color('red')\n",
        "  plt.show()\n",
        "show_pair_predicted(random_ind_test,.5,2)"
      ],
      "execution_count": 69,
      "outputs": [
        {
          "output_type": "display_data",
          "data": {
            "image/png": "[encoded data removed]",
            "text/plain": [
              "<Figure size 2880x216 with 1 Axes>"
            ]
          },
          "metadata": {
            "tags": []
          }
        },
        {
          "output_type": "display_data",
          "data": {
            "image/png": "[encoded data removed]",
            "text/plain": [
              "<Figure size 2880x216 with 1 Axes>"
            ]
          },
          "metadata": {
            "tags": [],
            "needs_background": "light"
          }
        }
      ]
    },
    {
      "cell_type": "code",
      "metadata": {
        "id": "4pzKOZTdjI7c"
      },
      "source": [
        ""
      ],
      "execution_count": null,
      "outputs": []
    },
    {
      "cell_type": "code",
      "metadata": {
        "id": "bTizSSaRjLb9"
      },
      "source": [
        ""
      ],
      "execution_count": null,
      "outputs": []
    }
  ]
}